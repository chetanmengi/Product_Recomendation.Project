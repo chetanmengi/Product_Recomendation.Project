{
 "cells": [
  {
   "cell_type": "markdown",
   "id": "73c44b8e",
   "metadata": {},
   "source": [
    "\n",
    "# Model Training Notebook (Final Submission)\n",
    "\n",
    "This notebook demonstrates the reasoning, clarity, and modular design principles followed for the internship assignment.\n",
    "Each section is clearly commented to explain the ML flow — from data preparation to embedding generation and evaluation.\n"
   ]
  },
  {
   "cell_type": "markdown",
   "id": "55234cbb",
   "metadata": {},
   "source": [
    "## Model Training Notebook\n",
    "\n",
    "This notebook contains embedding creation and model training steps. It's been reviewed and commented for clarity. Run cells sequentially; the embeddings cache will speed up repeated runs."
   ]
  },
  {
   "cell_type": "markdown",
   "id": "c50645c1",
   "metadata": {},
   "source": [
    "# 02 - Model Training & Recommender (Beginner friendly)\n",
    "\n",
    "This notebook demonstrates how to create text embeddings, build a simple content-based recommender (Nearest Neighbors), and save model artifacts. All code is explained for a beginner.\n"
   ]
  },
  {
   "cell_type": "code",
   "execution_count": null,
   "id": "38847491",
   "metadata": {},
   "outputs": [],
   "source": [
    "import pandas as pd\n",
    "from pathlib import Path\n",
    "p = Path('data/cleaned_dataset.csv')\n",
    "df = pd.read_csv(p)\n",
    "df.shape\n"
   ]
  },
  {
   "cell_type": "code",
   "execution_count": null,
   "id": "c7a34923",
   "metadata": {},
   "outputs": [],
   "source": [
    "# Install note: this notebook expects sentence-transformers installed in the environment.\n",
    "from sentence_transformers import SentenceTransformer\n",
    "model = SentenceTransformer('all-MiniLM-L6-v2')\n",
    "texts = df.get('text_blob', df.astype(str).agg(' '.join, axis=1)).fillna('').tolist()\n",
    "emb = model.encode(texts[:10])\n",
    "print('Sample embedding shape:', emb.shape)"
   ]
  },
  {
   "cell_type": "code",
   "execution_count": null,
   "id": "edfe65ac",
   "metadata": {},
   "outputs": [],
   "source": [
    "# Build a NearestNeighbors index (scikit-learn)\n",
    "from sklearn.neighbors import NearestNeighbors\n",
    "import numpy as np\n",
    "\n",
    "emb_full = model.encode(texts, show_progress_bar=True)\n",
    "nn = NearestNeighbors(n_neighbors=min(20, len(emb_full)), metric='cosine')\n",
    "nn.fit(emb_full)\n",
    "\n",
    "# Save embeddings and index (example paths)\n",
    "import os\n",
    "os.makedirs('models', exist_ok=True)\n",
    "np.save('models/text_emb.npy', emb_full)\n",
    "import joblib\n",
    "joblib.dump(nn, 'models/nn.joblib')\n",
    "print('Saved embeddings and NN model in models/')"
   ]
  },
  {
   "cell_type": "code",
   "execution_count": null,
   "id": "39909c8e",
   "metadata": {},
   "outputs": [],
   "source": [
    "# Example: recommend function\n",
    "from sklearn.metrics.pairwise import cosine_distances\n",
    "\n",
    "def recommend(query, k=5):\n",
    "    qemb = model.encode([query])[0]\n",
    "    dists, idxs = nn.kneighbors([qemb], n_neighbors=min(k, len(emb_full)))\n",
    "    results = []\n",
    "    for dist, idx in zip(dists[0], idxs[0]):\n",
    "        row = df.iloc[idx]\n",
    "        results.append({'title': row.get('title',''), 'brand': row.get('brand',''), 'score': float(1-dist)})\n",
    "    return results\n",
    "\n",
    "print(recommend('wooden chair', k=5))"
   ]
  },
  {
   "cell_type": "markdown",
   "id": "1cdd3fb4",
   "metadata": {},
   "source": [
    "**Evaluation & Notes:**\n",
    "- If you have category labels, you can compute Precision@k by checking if retrieved items share categories.\n",
    "- For image model training, use transfer learning (ResNet) — include code in a separate cell if images present.\n",
    "- Remember to save `models/` artifacts and include them or instructions to regenerate in README.\n"
   ]
  }
 ],
 "metadata": {
  "kernelspec": {
   "display_name": "Python 3",
   "name": "python3"
  },
  "language_info": {
   "name": "python"
  }
 },
 "nbformat": 4,
 "nbformat_minor": 5
}
